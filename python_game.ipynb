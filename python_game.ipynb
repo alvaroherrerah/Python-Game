{
 "cells": [
  {
   "cell_type": "code",
   "outputs": [],
   "source": [
    "from time import sleep \n",
    "from random import randint\n",
    "from IPython.display import clear_output\n",
    "import getpass\n",
    "import pandas as pd\n",
    "import ast"
   ],
   "metadata": {
    "collapsed": false,
    "ExecuteTime": {
     "end_time": "2024-10-26T10:51:40.106900500Z",
     "start_time": "2024-10-26T10:51:39.982830200Z"
    }
   },
   "id": "73c7c60873be9f35",
   "execution_count": 181
  },
  {
   "cell_type": "code",
   "outputs": [],
   "source": [
    "# función para comparar los números\n",
    "def comparar_numero(numero1, numero2):\n",
    "        if numero2 > numero1:\n",
    "            print(\"El número que has seleccionado es superior al número a adivinar.\")\n",
    "            acierto = 0\n",
    "            sleep(0.3)\n",
    "        if numero2 < numero1:\n",
    "            print(\"El número que has seleccionado es inferior al número a adivinar.\")\n",
    "            acierto = 0\n",
    "            sleep(0.3)\n",
    "        if numero1 == numero2:\n",
    "            print(\"Has acertado el número.\")\n",
    "            acierto = 1\n",
    "            sleep(0.3)\n",
    "            return acierto    # queremos que si el valor es igual se salga del bucle\n",
    "        return acierto"
   ],
   "metadata": {
    "collapsed": false,
    "ExecuteTime": {
     "end_time": "2024-10-26T10:51:40.174342700Z",
     "start_time": "2024-10-26T10:51:40.134300300Z"
    }
   },
   "id": "c4d4b2ee4f7a7759",
   "execution_count": 183
  },
  {
   "cell_type": "code",
   "outputs": [],
   "source": [
    "# función estadística\n",
    "def estadistica():\n",
    "    # esto sirve para leer las listas en nuestros datos\n",
    "    df = pd.read_excel(\"Datos.xlsx\")\n",
    "    lista = df.iloc[0, 1]\n",
    "    lista_numeros = ast.literal_eval(lista)\n",
    "\n",
    "    try:\n",
    "        archivo = input(\"Selecciona el archivo que desea leer:\")\n",
    "        df = pd.read_excel(archivo)\n",
    "        print(\"Estadísticas de los jugadores:\")\n",
    "        print(df)\n",
    "        sleep(0.7)\n",
    "    except FileNotFoundError:\n",
    "        print(f\"El archivo '{archivo}' no se encontró.\")\n",
    "        sleep(0.2)\n",
    "    except Exception as e:\n",
    "        print(f\"Ocurrió un error al leer el archivo: {e}\")\n",
    "        sleep(0.2)"
   ],
   "metadata": {
    "collapsed": false,
    "ExecuteTime": {
     "end_time": "2024-10-26T10:51:40.176457900Z",
     "start_time": "2024-10-26T10:51:40.158666200Z"
    }
   },
   "id": "c6b4c78822e5a8fa",
   "execution_count": 184
  },
  {
   "cell_type": "code",
   "outputs": [],
   "source": [
    "# función seleccionar modo\n",
    "def seleccionar_modo():\n",
    "    while True:\n",
    "        try:\n",
    "            selec_modo = int(input(f\"MENU:\\n\"\n",
    "                            f\"Selecciona 1, 2, 3 o 4.\\n\"\n",
    "                            f\"1. Partida modo solitario.\\n\"\n",
    "                            f\"2. Partida 2 jugadores.\\n\"\n",
    "                            f\"3. Estadística.\\n\"\n",
    "                            f\"4. Salir.\"))\n",
    "            if selec_modo not in [1, 2, 3, 4]:  # nos aseguramos que el valor sea el que queremos \n",
    "                raise ValueError\n",
    "            return selec_modo\n",
    "        except ValueError:\n",
    "            print(\"El valor debe ser 1, 2, 3 o 4\")\n",
    "            sleep(0.7)"
   ],
   "metadata": {
    "collapsed": false,
    "ExecuteTime": {
     "end_time": "2024-10-26T10:51:40.199546600Z",
     "start_time": "2024-10-26T10:51:40.183162800Z"
    }
   },
   "id": "88cbdbadf87f1c33",
   "execution_count": 185
  },
  {
   "cell_type": "code",
   "outputs": [],
   "source": [
    "# función seleccionar dificultad adaptada\n",
    "def seleccionar_dificultad_adaptada():\n",
    "    while True:\n",
    "        try:\n",
    "            selec_dificultad_adaptativa = int(input(f\"DIFICULTAD ADAPTADA:\\n\"\n",
    "                                            f\"Selecciona 1, 2, 3 o 4.\\n\"\n",
    "                                            f\"1. Rango 500.\\n\"\n",
    "                                            f\"2. Rango 1500.\\n\"\n",
    "                                            f\"3. Rango 3000.\\n\"\n",
    "                                            f\"4. No.\"))\n",
    "            if selec_dificultad_adaptativa not in [1, 2, 3, 4]:   # nos aseguramos que el valor sea el que queremos \n",
    "                raise ValueError\n",
    "            break\n",
    "        except ValueError:\n",
    "            print(\"El valor debe ser 1, 2, 3 o 4\")\n",
    "            sleep(0.7)\n",
    "# asignamos los valores de los intentos a continuación y el valor de salida\n",
    "    if selec_dificultad_adaptativa == 1:\n",
    "        devuelve_dificultad_adaptativa = 500\n",
    "    if selec_dificultad_adaptativa == 2:\n",
    "        devuelve_dificultad_adaptativa = 1500\n",
    "    if selec_dificultad_adaptativa == 3:\n",
    "        devuelve_dificultad_adaptativa = 3000\n",
    "    if selec_dificultad_adaptativa == 4:\n",
    "        devuelve_dificultad_adaptativa = 1000\n",
    "    return devuelve_dificultad_adaptativa"
   ],
   "metadata": {
    "collapsed": false,
    "ExecuteTime": {
     "end_time": "2024-10-26T10:51:40.212850100Z",
     "start_time": "2024-10-26T10:51:40.192418300Z"
    }
   },
   "id": "24ff1aeb54a80da5",
   "execution_count": 186
  },
  {
   "cell_type": "code",
   "outputs": [],
   "source": [
    "def aleatorizar_o_no(seleccion):\n",
    "    rango = seleccionar_dificultad_adaptada()  # Esto nos va a permitir jugar con el rango\n",
    "    if seleccion == 1:\n",
    "        numero_generado = randint(1, rango)\n",
    "        return numero_generado, rango  # Asegúrate de retornar el número generado\n",
    "    \n",
    "    elif seleccion == 2:\n",
    "        while True:\n",
    "            try:\n",
    "                numero_generado = int(getpass.getpass(f\"Ingrese un número del 1 al {rango}: \"))\n",
    "                if numero_generado < 1 or numero_generado > rango:  # nos aseguramos que esté dentro del rango\n",
    "                    raise ValueError\n",
    "                return numero_generado, rango\n",
    "            except ValueError:\n",
    "                print(f\"El valor debe ser un número del 1 al {rango}\")"
   ],
   "metadata": {
    "collapsed": false,
    "ExecuteTime": {
     "end_time": "2024-10-26T10:51:40.215066600Z",
     "start_time": "2024-10-26T10:51:40.205240Z"
    }
   },
   "id": "e4f066ee1191bdc",
   "execution_count": 187
  },
  {
   "cell_type": "code",
   "outputs": [],
   "source": [
    "# función seleccionar modo\n",
    "def seleccionar_dificultad():\n",
    "    while True:\n",
    "        try:\n",
    "            selec_dificultad = int(input(f\"DIFICULTAD:\\n\"\n",
    "                                         f\"Selecciona 1, 2 o 3.\\n\"\n",
    "                                         f\"1. Fácil (20 intentos).\\n\"\n",
    "                                         f\"2. Medio (12 intentos).\\n\"\n",
    "                                         f\"3. Difícil (5 intentos).\\n\"\n",
    "                                         f\"4. Atrás.\"))\n",
    "            if selec_dificultad not in [1, 2, 3, 4]:   # nos aseguramos que el valor sea el que queremos \n",
    "                raise ValueError\n",
    "            break\n",
    "        except ValueError:\n",
    "            print(\"El valor debe ser 1, 2, 3 o 4\")\n",
    "            sleep(0.7)\n",
    "# asignamos los valores de los intentos a continuación y el valor de salida\n",
    "    if selec_dificultad == 1:\n",
    "        devuelve_dificultad = 20\n",
    "    if selec_dificultad == 2:\n",
    "        devuelve_dificultad = 12\n",
    "    if selec_dificultad == 3:\n",
    "        devuelve_dificultad = 5\n",
    "    if selec_dificultad == 4:\n",
    "        devuelve_dificultad = 4\n",
    "    return devuelve_dificultad \n",
    "        "
   ],
   "metadata": {
    "collapsed": false,
    "ExecuteTime": {
     "end_time": "2024-10-26T10:51:40.232944Z",
     "start_time": "2024-10-26T10:51:40.221775700Z"
    }
   },
   "id": "11f47bdc61d91422",
   "execution_count": 188
  },
  {
   "cell_type": "code",
   "outputs": [],
   "source": [
    "def exportar_data(usuario, lista_numeros, intentos, acierto_sn):\n",
    "    acierto_texto = \"si\" if acierto_sn == 1 else \"no\"\n",
    "\n",
    "    try:\n",
    "        df = pd.read_excel(\"Datos.xlsx\")\n",
    "    except FileNotFoundError:\n",
    "        df = pd.DataFrame(columns=[\"Nombre\", \"Lista_numeros\", \"Intentos\", \"Acierto_Numero\", \"Acierto_Texto\"])\n",
    "        \n",
    "    resultados = pd.DataFrame([{\n",
    "        \"Nombre\": usuario,\n",
    "        \"Lista_numeros\": lista_numeros,\n",
    "        \"Intentos\": intentos,\n",
    "        \"Acierto_Numero\": acierto_sn,\n",
    "        \"Acierto_Texto\": acierto_texto\n",
    "    }])\n",
    "    \n",
    "    df = pd.concat([df, resultados], ignore_index=True)\n",
    "    \n",
    "    df.to_excel('Datos.xlsx', index=False)"
   ],
   "metadata": {
    "collapsed": false,
    "ExecuteTime": {
     "end_time": "2024-10-26T10:51:40.284325800Z",
     "start_time": "2024-10-26T10:51:40.239353800Z"
    }
   },
   "id": "cba33f7fc2b03656",
   "execution_count": 189
  },
  {
   "cell_type": "code",
   "outputs": [],
   "source": [
    "def jugar_adivinanza():\n",
    "    while True:  \n",
    "        modo = seleccionar_modo()\n",
    "        if modo == 3:\n",
    "            estadistica()\n",
    "        elif modo == 4:\n",
    "            print(\"Saliendo del juego.\")\n",
    "            break\n",
    "        else:\n",
    "            while True:  \n",
    "                dificultad = seleccionar_dificultad() \n",
    "                if dificultad == 4:\n",
    "                    break  # Salir si se selecciona la opción 4\n",
    "                \n",
    "                n_adivinar, rango = aleatorizar_o_no(modo)  # Obtener el número a adivinar\n",
    "                limite = 0\n",
    "                primer_numero = n_adivinar  # Suponiendo que `n_adivinar` es el número a adivinar\n",
    "                lista_valores = []\n",
    "                \n",
    "                while True:\n",
    "                    clear_output(wait=True)\n",
    "                    \n",
    "                    while True:\n",
    "                        try:\n",
    "                            numero_segundo_jugador = int(input(\"Adivine el número: \"))\n",
    "                            if numero_segundo_jugador < 1 or numero_segundo_jugador > rango:  # Asegurarse que esté dentro del rango\n",
    "                                raise ValueError\n",
    "                            break  # Salir del bucle si la entrada es válida\n",
    "                        except ValueError:\n",
    "                            print(f\"El valor debe ser un número del 1 al {rango}\")\n",
    "                            sleep(0.3)\n",
    "                    \n",
    "                    lista_valores.append(numero_segundo_jugador)\n",
    "                    limite += 1\n",
    "                    \n",
    "                    if limite > dificultad:\n",
    "                        print(f\"Has alcanzado el número límite de intentos.\\n\"\n",
    "                              f\"El número era: {primer_numero}\")\n",
    "                        sleep(0.3)\n",
    "                        nombre = input(\"Ingrese su nombre: \")\n",
    "                        exportar_data(nombre, lista_valores, limite, False)  # Suponiendo que `False` indica no acertar\n",
    "                        break\n",
    "\n",
    "                    acertar = comparar_numero(primer_numero, numero_segundo_jugador)\n",
    "                    if acertar == 1:\n",
    "                        print(f\"El número era: {primer_numero}\")\n",
    "                        nombre = input(\"Ingrese su nombre: \")\n",
    "                        exportar_data(nombre, lista_valores, limite, True)  # Suponiendo que `True` indica acertar\n",
    "                        break\n",
    "\n",
    "                print(\"Partida finalizada. Volviendo a seleccionar el modo.\")\n",
    "                break  # Volver al menú principal después de la partida\n"
   ],
   "metadata": {
    "collapsed": false,
    "ExecuteTime": {
     "end_time": "2024-10-26T10:51:40.286619400Z",
     "start_time": "2024-10-26T10:51:40.253831500Z"
    }
   },
   "id": "a7eea0c80a7a374a",
   "execution_count": 190
  },
  {
   "cell_type": "code",
   "outputs": [
    {
     "name": "stdout",
     "output_type": "stream",
     "text": [
      "El valor debe ser un número del 1 al 1500\n",
      "Has alcanzado el número límite de intentos.\n",
      "El número era: 228\n",
      "Partida finalizada. Volviendo a seleccionar el modo.\n",
      "Saliendo del juego.\n"
     ]
    }
   ],
   "source": [
    "jugar_adivinanza()"
   ],
   "metadata": {
    "collapsed": false
   },
   "id": "5af79d1e8530f5a5",
   "execution_count": 191
  }
 ],
 "metadata": {
  "kernelspec": {
   "display_name": "Python 3",
   "language": "python",
   "name": "python3"
  },
  "language_info": {
   "codemirror_mode": {
    "name": "ipython",
    "version": 2
   },
   "file_extension": ".py",
   "mimetype": "text/x-python",
   "name": "python",
   "nbconvert_exporter": "python",
   "pygments_lexer": "ipython2",
   "version": "2.7.6"
  }
 },
 "nbformat": 4,
 "nbformat_minor": 5
}
